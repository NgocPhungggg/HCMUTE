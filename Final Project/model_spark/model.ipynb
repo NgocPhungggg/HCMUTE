{
 "cells": [
  {
   "cell_type": "code",
   "execution_count": 2,
   "metadata": {},
   "outputs": [],
   "source": [
    "from pyspark.sql import SparkSession\n",
    "\n",
    "import numpy as np\n",
    "import pandas as pd\n",
    "import seaborn as sns\n",
    "import matplotlib.pyplot as plt \n",
    "\n",
    "import nltk\n",
    "from nltk.corpus import stopwords\n",
    "from pyspark.ml.classification import LogisticRegression, RandomForestClassifier \n"
   ]
  },
  {
   "cell_type": "code",
   "execution_count": 4,
   "metadata": {},
   "outputs": [
    {
     "name": "stderr",
     "output_type": "stream",
     "text": [
      "[nltk_data] Downloading package stopwords to\n",
      "[nltk_data]     C:\\Users\\Admin\\AppData\\Roaming\\nltk_data...\n",
      "[nltk_data]   Unzipping corpora\\stopwords.zip.\n"
     ]
    },
    {
     "data": {
      "text/plain": [
       "True"
      ]
     },
     "execution_count": 4,
     "metadata": {},
     "output_type": "execute_result"
    }
   ],
   "source": [
    "nltk.download('stopwords')"
   ]
  },
  {
   "cell_type": "code",
   "execution_count": 6,
   "metadata": {},
   "outputs": [],
   "source": [
    "# define English stopwords\n",
    "stop_words = stopwords.words('english')"
   ]
  },
  {
   "cell_type": "code",
   "execution_count": 8,
   "metadata": {},
   "outputs": [],
   "source": [
    "spark = SparkSession.builder.appName(\"Tweets Sentiment with in PySpark\").getOrCreate()"
   ]
  },
  {
   "cell_type": "code",
   "execution_count": 10,
   "metadata": {},
   "outputs": [
    {
     "name": "stdout",
     "output_type": "stream",
     "text": [
      "root\n",
      " |-- _c0: integer (nullable = true)\n",
      " |-- _c1: string (nullable = true)\n",
      " |-- _c2: string (nullable = true)\n",
      " |-- _c3: string (nullable = true)\n",
      "\n"
     ]
    }
   ],
   "source": [
    "train_set = spark.read.csv('twitter_training.csv', header = False, inferSchema = True)\n",
    "val_set = spark.read.csv('twitter_validation.csv', header = False, inferSchema = True)\n"
   ]
  },
  {
   "cell_type": "code",
   "execution_count": 11,
   "metadata": {},
   "outputs": [
    {
     "name": "stdout",
     "output_type": "stream",
     "text": [
      "root\n",
      " |-- _c0: integer (nullable = true)\n",
      " |-- _c1: string (nullable = true)\n",
      " |-- _c2: string (nullable = true)\n",
      " |-- _c3: string (nullable = true)\n",
      "\n",
      "+----+-----------+--------+---------------------------------------------------------+\n",
      "|_c0 |_c1        |_c2     |_c3                                                      |\n",
      "+----+-----------+--------+---------------------------------------------------------+\n",
      "|2401|Borderlands|Positive|im getting on borderlands and i will murder you all ,    |\n",
      "|2401|Borderlands|Positive|I am coming to the borders and I will kill you all,      |\n",
      "|2401|Borderlands|Positive|im getting on borderlands and i will kill you all,       |\n",
      "|2401|Borderlands|Positive|im coming on borderlands and i will murder you all,      |\n",
      "|2401|Borderlands|Positive|im getting on borderlands 2 and i will murder you me all,|\n",
      "+----+-----------+--------+---------------------------------------------------------+\n",
      "only showing top 5 rows\n",
      "\n"
     ]
    }
   ],
   "source": [
    "train_set.printSchema()\n",
    "train_set.show(5, False)"
   ]
  },
  {
   "cell_type": "code",
   "execution_count": 13,
   "metadata": {},
   "outputs": [],
   "source": [
    "columns = ['id', 'company', 'label', 'text']\n",
    "\n",
    "# rename columns\n",
    "for i, col_name in enumerate(columns):\n",
    "    train_set = train_set.withColumnRenamed('_c{}'.format(i), col_name)\n",
    "    val_set = val_set.withColumnRenamed('_c{}'.format(i), col_name)"
   ]
  },
  {
   "cell_type": "code",
   "execution_count": 15,
   "metadata": {},
   "outputs": [
    {
     "name": "stdout",
     "output_type": "stream",
     "text": [
      "root\n",
      " |-- id: integer (nullable = true)\n",
      " |-- company: string (nullable = true)\n",
      " |-- label: string (nullable = true)\n",
      " |-- text: string (nullable = true)\n",
      "\n",
      "+----+-----------+--------+---------------------------------------------------------+\n",
      "|id  |company    |label   |text                                                     |\n",
      "+----+-----------+--------+---------------------------------------------------------+\n",
      "|2401|Borderlands|Positive|im getting on borderlands and i will murder you all ,    |\n",
      "|2401|Borderlands|Positive|I am coming to the borders and I will kill you all,      |\n",
      "|2401|Borderlands|Positive|im getting on borderlands and i will kill you all,       |\n",
      "|2401|Borderlands|Positive|im coming on borderlands and i will murder you all,      |\n",
      "|2401|Borderlands|Positive|im getting on borderlands 2 and i will murder you me all,|\n",
      "+----+-----------+--------+---------------------------------------------------------+\n",
      "only showing top 5 rows\n",
      "\n"
     ]
    },
    {
     "data": {
      "text/plain": [
       "74682"
      ]
     },
     "execution_count": 15,
     "metadata": {},
     "output_type": "execute_result"
    }
   ],
   "source": [
    "train_set.printSchema()\n",
    "train_set.show(5, False)\n",
    "train_set.count()"
   ]
  },
  {
   "cell_type": "code",
   "execution_count": 18,
   "metadata": {},
   "outputs": [
    {
     "data": {
      "text/plain": [
       "73996"
      ]
     },
     "execution_count": 18,
     "metadata": {},
     "output_type": "execute_result"
    }
   ],
   "source": [
    "# drop missing value of text column\n",
    "train_set = train_set.dropna(subset=['text'])\n",
    "val_set = val_set.dropna(subset=['text'])\n",
    "train_set.count()"
   ]
  },
  {
   "cell_type": "code",
   "execution_count": 19,
   "metadata": {},
   "outputs": [],
   "source": [
    "from pyspark.ml.feature import StringIndexer, StopWordsRemover, CountVectorizer, Tokenizer"
   ]
  },
  {
   "cell_type": "code",
   "execution_count": 34,
   "metadata": {},
   "outputs": [],
   "source": [
    "train_set=train_set.drop('int_label')\n",
    "val_set=val_set.drop('int_label')"
   ]
  },
  {
   "cell_type": "code",
   "execution_count": 35,
   "metadata": {},
   "outputs": [
    {
     "name": "stdout",
     "output_type": "stream",
     "text": [
      "index 0 --> label Negative\n",
      "index 1 --> label Positive\n",
      "index 2 --> label Neutral\n",
      "index 3 --> label Irrelevant\n",
      "+----+-----------+--------+---------------------------------------------------------+---------+\n",
      "|id  |company    |label   |text                                                     |int_label|\n",
      "+----+-----------+--------+---------------------------------------------------------+---------+\n",
      "|2401|Borderlands|Positive|im getting on borderlands and i will murder you all ,    |1.0      |\n",
      "|2401|Borderlands|Positive|I am coming to the borders and I will kill you all,      |1.0      |\n",
      "|2401|Borderlands|Positive|im getting on borderlands and i will kill you all,       |1.0      |\n",
      "|2401|Borderlands|Positive|im coming on borderlands and i will murder you all,      |1.0      |\n",
      "|2401|Borderlands|Positive|im getting on borderlands 2 and i will murder you me all,|1.0      |\n",
      "+----+-----------+--------+---------------------------------------------------------+---------+\n",
      "only showing top 5 rows\n",
      "\n"
     ]
    }
   ],
   "source": [
    "# mapping label with index\n",
    "label_indexer = StringIndexer(inputCol='label', outputCol='int_label')\n",
    "\n",
    "label_indexer_model = label_indexer.fit(train_set)\n",
    "train_set = label_indexer_model.transform(train_set)\n",
    "val_set = label_indexer_model.transform(val_set)\n",
    "\n",
    "# extract label mapping\n",
    "label_mapping = label_indexer_model.labels\n",
    "\n",
    "for i, val in enumerate(label_mapping):\n",
    "    print(f'index {i} --> label {val}')\n",
    "\n",
    "train_set.show(5, False)"
   ]
  },
  {
   "cell_type": "code",
   "execution_count": 37,
   "metadata": {},
   "outputs": [],
   "source": [
    "from pyspark.sql.functions import regexp_replace, lower"
   ]
  },
  {
   "cell_type": "code",
   "execution_count": 38,
   "metadata": {},
   "outputs": [],
   "source": [
    "# cleaning text\n",
    "def clean_text(df, inputCol='text', outputCol='text'):\n",
    "    # remove link https, http, ...\n",
    "    df = df.withColumn(outputCol, regexp_replace(df[inputCol], r'https?://\\S+|www\\.\\S+|S+\\.com\\S+|youtu.\\be/\\S+', ''))\n",
    "    # remove starting with @ or #\n",
    "    df = df.withColumn(outputCol, regexp_replace(df[inputCol], r'(@|#)\\w+', ''))\n",
    "    # convert text to lowercase\n",
    "    df = df.withColumn(outputCol, lower(df[inputCol]))\n",
    "    # remove non-alpha characters\n",
    "    df = df.withColumn(outputCol, regexp_replace(df[inputCol], r'[^a-zA-Z\\s]', ''))\n",
    "    \n",
    "    return df"
   ]
  },
  {
   "cell_type": "code",
   "execution_count": 40,
   "metadata": {},
   "outputs": [
    {
     "name": "stdout",
     "output_type": "stream",
     "text": [
      "+----+-----------+--------+-------------------------------------------------------+---------+\n",
      "|id  |company    |label   |text                                                   |int_label|\n",
      "+----+-----------+--------+-------------------------------------------------------+---------+\n",
      "|2401|Borderlands|Positive|im getting on borderlands and i will murder you all    |1.0      |\n",
      "|2401|Borderlands|Positive|i am coming to the borders and i will kill you all     |1.0      |\n",
      "|2401|Borderlands|Positive|im getting on borderlands and i will kill you all      |1.0      |\n",
      "|2401|Borderlands|Positive|im coming on borderlands and i will murder you all     |1.0      |\n",
      "|2401|Borderlands|Positive|im getting on borderlands  and i will murder you me all|1.0      |\n",
      "+----+-----------+--------+-------------------------------------------------------+---------+\n",
      "only showing top 5 rows\n",
      "\n"
     ]
    }
   ],
   "source": [
    "cleaned_train_set = clean_text(train_set, inputCol='text', outputCol='text')\n",
    "cleaned_val_set = clean_text(val_set, inputCol='text', outputCol='text')\n",
    "cleaned_train_set.show(5, False)"
   ]
  },
  {
   "cell_type": "code",
   "execution_count": 43,
   "metadata": {},
   "outputs": [],
   "source": [
    "# define tokenizer\n",
    "tokenizer = Tokenizer(inputCol='text', outputCol='token')\n",
    "\n",
    "# define stopwords remover\n",
    "stopword_remover = StopWordsRemover(inputCol='token', outputCol='filtered_token', stopWords=stop_words)\n",
    "\n",
    "# define countVectorizer\n",
    "count_vectorizer = CountVectorizer(inputCol='filtered_token', outputCol='features', vocabSize=10000, minDF=5)\n",
    "\n",
    "# define Logistic Regression and RandomForest model\n",
    "lr = LogisticRegression(labelCol='int_label', featuresCol='features', maxIter= 100)\n",
    "rf = RandomForestClassifier(labelCol='int_label', featuresCol='features', numTrees=100, maxDepth=10)\n"
   ]
  },
  {
   "cell_type": "code",
   "execution_count": 41,
   "metadata": {},
   "outputs": [],
   "source": [
    "from pyspark.ml import Pipeline"
   ]
  },
  {
   "cell_type": "code",
   "execution_count": 44,
   "metadata": {},
   "outputs": [],
   "source": [
    "# create pipelines\n",
    "lr_pipeline = Pipeline(stages=[tokenizer, stopword_remover, count_vectorizer, lr])\n",
    "rf_pipeline = Pipeline(stages=[tokenizer, stopword_remover, count_vectorizer, rf])\n",
    "\n",
    "# fit the models\n",
    "lr_model = lr_pipeline.fit(cleaned_train_set)\n",
    "rf_model = rf_pipeline.fit(cleaned_train_set)\n",
    "\n",
    "# transform the data\n",
    "lr_predictions = lr_model.transform(cleaned_train_set)\n",
    "rf_predictions = rf_model.transform(cleaned_train_set)"
   ]
  },
  {
   "cell_type": "code",
   "execution_count": 45,
   "metadata": {},
   "outputs": [
    {
     "name": "stdout",
     "output_type": "stream",
     "text": [
      "Logistic Regression Accuracy on Training Set: 0.900089194010487\n",
      "RandomForest Accuracy on Training Set: 0.45413265581923346\n"
     ]
    }
   ],
   "source": [
    "from pyspark.ml.evaluation import MulticlassClassificationEvaluator\n",
    "\n",
    "evaluator = MulticlassClassificationEvaluator(labelCol=\"int_label\", predictionCol=\"prediction\", metricName=\"accuracy\")\n",
    "\n",
    "lr_accuracy = evaluator.evaluate(lr_predictions)\n",
    "rf_accuracy = evaluator.evaluate(rf_predictions)\n",
    "\n",
    "print(f\"Logistic Regression Accuracy on Training Set: {lr_accuracy}\")\n",
    "print(f\"RandomForest Accuracy on Training Set: {rf_accuracy}\")\n"
   ]
  },
  {
   "cell_type": "code",
   "execution_count": 51,
   "metadata": {},
   "outputs": [
    {
     "name": "stdout",
     "output_type": "stream",
     "text": [
      "Accuracy: 0.872\n"
     ]
    },
    {
     "data": {
      "image/png": "[encoded data removed]",
      "text/plain": [
       "<Figure size 800x600 with 2 Axes>"
      ]
     },
     "metadata": {},
     "output_type": "display_data"
    }
   ],
   "source": [
    "# because accuracy of logistic regression greater than randomforest, I will use it to evaluate validation set\n",
    "# apply model to validation set\n",
    "processed_val_set = lr_model.transform(cleaned_val_set)\n",
    "\n",
    "# Evaluate accuracy\n",
    "evaluator = MulticlassClassificationEvaluator(labelCol=\"int_label\", predictionCol=\"prediction\", metricName=\"accuracy\")\n",
    "accuracy = evaluator.evaluate(processed_val_set)\n",
    "print(\"Accuracy:\", accuracy)\n",
    "\n",
    "# --- Create a confusion matrix\n",
    "from sklearn.metrics import confusion_matrix\n",
    "\n",
    "# Convert Spark DataFrame to Pandas DataFrame\n",
    "prediction_and_label_pd = processed_val_set.select(\"prediction\", \"int_label\").toPandas()\n",
    "\n",
    "# Extract predicted labels and true labels\n",
    "predicted_labels = prediction_and_label_pd[\"prediction\"].tolist()\n",
    "true_labels = prediction_and_label_pd[\"int_label\"].tolist()\n",
    "\n",
    "# Create confusion matrix\n",
    "conf_matrix = confusion_matrix(true_labels, predicted_labels)\n",
    "\n",
    "# Plot confusion matrix using Seaborn\n",
    "plt.figure(figsize=(8, 6))\n",
    "sns.heatmap(conf_matrix, annot=True, fmt=\"d\", cmap=\"Blues\", xticklabels=True, yticklabels=True)\n",
    "plt.xlabel(\"Predicted Labels\")\n",
    "plt.ylabel(\"True Labels\")\n",
    "plt.title(\"Confusion Matrix\")\n",
    "plt.show()"
   ]
  },
  {
   "cell_type": "code",
   "execution_count": 52,
   "metadata": {},
   "outputs": [],
   "source": [
    "lr_model.write().overwrite().save('logistic_regression_model.pkl')"
   ]
  },
  {
   "cell_type": "code",
   "execution_count": 53,
   "metadata": {},
   "outputs": [
    {
     "data": {
      "text/plain": [
       "<bound method SparkSession.stop of <pyspark.sql.session.SparkSession object at 0x00000249ECF102D0>>"
      ]
     },
     "execution_count": 53,
     "metadata": {},
     "output_type": "execute_result"
    }
   ],
   "source": [
    "# stop SparkSession\n",
    "spark.stop"
   ]
  }
 ],
 "metadata": {
  "kernelspec": {
   "display_name": "base",
   "language": "python",
   "name": "python3"
  },
  "language_info": {
   "codemirror_mode": {
    "name": "ipython",
    "version": 3
   },
   "file_extension": ".py",
   "mimetype": "text/x-python",
   "name": "python",
   "nbconvert_exporter": "python",
   "pygments_lexer": "ipython3",
   "version": "3.11.7"
  }
 },
 "nbformat": 4,
 "nbformat_minor": 2
}
